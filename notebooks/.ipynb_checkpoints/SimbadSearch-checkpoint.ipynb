{
 "cells": [
  {
   "cell_type": "code",
   "execution_count": 1,
   "id": "d38c45db",
   "metadata": {},
   "outputs": [],
   "source": [
    "import numpy as np\n",
    "import astropy.units as u\n",
    "import astropy.constants as const\n",
    "from astroquery.simbad import Simbad\n",
    "from astroquery.vizier import Vizier\n",
    "from astropy.table import QTable, Table, Column, vstack\n",
    "import yaml\n",
    "import re\n",
    "import os\n",
    "import time\n",
    "\n",
    "homedir = os.path.expanduser('~')\n",
    "savedir = homedir + '/uasal/roman-psf-vetting/data/catalog_tables/'\n",
    "\n",
    "from astropy.utils.data import clear_download_cache\n",
    "\n",
    "clear_download_cache()\n",
    "\n",
    "#Simbad.cache_location"
   ]
  },
  {
   "cell_type": "code",
   "execution_count": 2,
   "id": "7e3d6914",
   "metadata": {},
   "outputs": [],
   "source": [
    "savepath = savedir + 'simbad.fits'\n",
    "\n",
    "Simbad.add_votable_fields(\n",
    "    'fluxdata(U)',\n",
    "    'fluxdata(B)',\n",
    "    'fluxdata(V)',\n",
    "    'fluxdata(R)',\n",
    "    'fluxdata(I)',\n",
    "    'parallax',\n",
    "    'sptype',\n",
    "    'morphtype',\n",
    "    'measurements',\n",
    ")"
   ]
  },
  {
   "cell_type": "code",
   "execution_count": 3,
   "id": "84a1c021",
   "metadata": {},
   "outputs": [
    {
     "name": "stdout",
     "output_type": "stream",
     "text": [
      "Saving to:\n",
      "/home/ntschragal/uasal/roman-psf-vetting/data/catalog_tables/\n"
     ]
    }
   ],
   "source": [
    "#savedir = save_dir_base + \"{}/\".format(datetime.datetime.now().strftime(\"%Y-%m-%dT%H:%M:%S\"))\n",
    "if not os.path.isdir(savedir):\n",
    "    os.makedirs(savedir)\n",
    "print(\"Saving to:\\n{}\".format(savedir))"
   ]
  },
  {
   "cell_type": "code",
   "execution_count": 4,
   "id": "275999b0",
   "metadata": {},
   "outputs": [],
   "source": [
    "with open(\"hd_id_list.yaml\", 'r') as f:\n",
    "    current_list = yaml.safe_load(f)\n",
    "\n",
    "#print(current_list)"
   ]
  },
  {
   "cell_type": "code",
   "execution_count": 5,
   "id": "27eb99ab",
   "metadata": {},
   "outputs": [],
   "source": [
    "with open(\"all_v3_stars.yaml\", 'r') as f:\n",
    "    all_v3_stars = yaml.safe_load(f)\n",
    "    \n",
    "#print(all_v3_stars)"
   ]
  },
  {
   "cell_type": "code",
   "execution_count": 6,
   "id": "6a39b318",
   "metadata": {},
   "outputs": [
    {
     "name": "stdout",
     "output_type": "stream",
     "text": [
      "V < 3 stars currently in the list: 61\n",
      "Length of the current list:        61\n",
      "V < 3 stars cataloged by Simbad:   181\n"
     ]
    }
   ],
   "source": [
    "in_current_list = []\n",
    "\n",
    "for idx, star in enumerate(all_v3_stars):\n",
    "    \n",
    "    in_current_list.append(star in current_list)\n",
    "    \n",
    "    \n",
    "print(\"V < 3 stars currently in the list: {}\".format(np.sum(in_current_list)))\n",
    "print(\"Length of the current list:        {}\".format(len(current_list)))\n",
    "print(\"V < 3 stars cataloged by Simbad:   {}\".format(len(all_v3_stars)))"
   ]
  },
  {
   "cell_type": "code",
   "execution_count": 7,
   "id": "200f5fbf",
   "metadata": {},
   "outputs": [
    {
     "name": "stderr",
     "output_type": "stream",
     "text": [
      "/home/ntschragal/anaconda3/envs/psfvet/lib/python3.12/site-packages/astroquery/simbad/core.py:135: UserWarning: Warning: The script line number 2 raised an error (recorded in the `errors` attribute of the result table): java.lang.NullPointerException\n",
      "  warnings.warn(\"Warning: The script line number %i raised \"\n"
     ]
    },
    {
     "ename": "TableParseError",
     "evalue": "Failed to parse SIMBAD result! The raw response can be found in self.last_response, and the error in self.last_table_parse_error. The attempted parsed result is in self.last_parsed_result.\n Exception: No table found in VOTABLE file.",
     "output_type": "error",
     "traceback": [
      "\u001b[0;31m---------------------------------------------------------------------------\u001b[0m",
      "\u001b[0;31mIndexError\u001b[0m                                Traceback (most recent call last)",
      "File \u001b[0;32m~/anaconda3/envs/psfvet/lib/python3.12/site-packages/astroquery/simbad/core.py:1052\u001b[0m, in \u001b[0;36mSimbadClass._parse_result\u001b[0;34m(self, result, resultclass, verbose)\u001b[0m\n\u001b[1;32m   1051\u001b[0m     \u001b[38;5;28;01mreturn\u001b[39;00m \u001b[38;5;28;01mNone\u001b[39;00m\n\u001b[0;32m-> 1052\u001b[0m resulttable \u001b[38;5;241m=\u001b[39m \u001b[38;5;28mself\u001b[39m\u001b[38;5;241m.\u001b[39mlast_parsed_result\u001b[38;5;241m.\u001b[39mtable\n\u001b[1;32m   1053\u001b[0m \u001b[38;5;28;01mif\u001b[39;00m \u001b[38;5;28mlen\u001b[39m(resulttable) \u001b[38;5;241m==\u001b[39m \u001b[38;5;241m0\u001b[39m:\n",
      "File \u001b[0;32m~/anaconda3/envs/psfvet/lib/python3.12/site-packages/astroquery/simbad/core.py:192\u001b[0m, in \u001b[0;36mSimbadVOTableResult.table\u001b[0;34m(self)\u001b[0m\n\u001b[1;32m    191\u001b[0m \u001b[38;5;28mself\u001b[39m\u001b[38;5;241m.\u001b[39mbytes \u001b[38;5;241m=\u001b[39m BytesIO(\u001b[38;5;28mself\u001b[39m\u001b[38;5;241m.\u001b[39mdata\u001b[38;5;241m.\u001b[39mencode(\u001b[38;5;124m'\u001b[39m\u001b[38;5;124mutf8\u001b[39m\u001b[38;5;124m'\u001b[39m))\n\u001b[0;32m--> 192\u001b[0m tbl \u001b[38;5;241m=\u001b[39m votable\u001b[38;5;241m.\u001b[39mparse_single_table(\u001b[38;5;28mself\u001b[39m\u001b[38;5;241m.\u001b[39mbytes, verify\u001b[38;5;241m=\u001b[39m\u001b[38;5;124m'\u001b[39m\u001b[38;5;124mwarn\u001b[39m\u001b[38;5;124m'\u001b[39m)\n\u001b[1;32m    193\u001b[0m \u001b[38;5;28mself\u001b[39m\u001b[38;5;241m.\u001b[39m__table \u001b[38;5;241m=\u001b[39m tbl\u001b[38;5;241m.\u001b[39mto_table()\n",
      "File \u001b[0;32m~/anaconda3/envs/psfvet/lib/python3.12/site-packages/astropy/io/votable/table.py:197\u001b[0m, in \u001b[0;36mparse_single_table\u001b[0;34m(source, **kwargs)\u001b[0m\n\u001b[1;32m    195\u001b[0m votable \u001b[38;5;241m=\u001b[39m parse(source, \u001b[38;5;241m*\u001b[39m\u001b[38;5;241m*\u001b[39mkwargs)\n\u001b[0;32m--> 197\u001b[0m \u001b[38;5;28;01mreturn\u001b[39;00m votable\u001b[38;5;241m.\u001b[39mget_first_table()\n",
      "File \u001b[0;32m~/anaconda3/envs/psfvet/lib/python3.12/site-packages/astropy/io/votable/tree.py:4012\u001b[0m, in \u001b[0;36mVOTableFile.get_first_table\u001b[0;34m(self)\u001b[0m\n\u001b[1;32m   4011\u001b[0m         \u001b[38;5;28;01mreturn\u001b[39;00m table\n\u001b[0;32m-> 4012\u001b[0m \u001b[38;5;28;01mraise\u001b[39;00m \u001b[38;5;167;01mIndexError\u001b[39;00m(\u001b[38;5;124m\"\u001b[39m\u001b[38;5;124mNo table found in VOTABLE file.\u001b[39m\u001b[38;5;124m\"\u001b[39m)\n",
      "\u001b[0;31mIndexError\u001b[0m: No table found in VOTABLE file.",
      "\nDuring handling of the above exception, another exception occurred:\n",
      "\u001b[0;31mTableParseError\u001b[0m                           Traceback (most recent call last)",
      "Cell \u001b[0;32mIn[7], line 1\u001b[0m\n\u001b[0;32m----> 1\u001b[0m Simbad\u001b[38;5;241m.\u001b[39mquery_object(\u001b[38;5;124m\"\u001b[39m\u001b[38;5;124mBetelgeuse\u001b[39m\u001b[38;5;124m\"\u001b[39m)\n",
      "File \u001b[0;32m~/anaconda3/envs/psfvet/lib/python3.12/site-packages/astroquery/simbad/core.py:548\u001b[0m, in \u001b[0;36mSimbadClass.query_object\u001b[0;34m(self, object_name, wildcard, verbose, get_query_payload)\u001b[0m\n\u001b[1;32m    545\u001b[0m \u001b[38;5;28;01mif\u001b[39;00m get_query_payload:\n\u001b[1;32m    546\u001b[0m     \u001b[38;5;28;01mreturn\u001b[39;00m response\n\u001b[0;32m--> 548\u001b[0m \u001b[38;5;28;01mreturn\u001b[39;00m \u001b[38;5;28mself\u001b[39m\u001b[38;5;241m.\u001b[39m_parse_result(response, SimbadVOTableResult,\n\u001b[1;32m    549\u001b[0m                           verbose\u001b[38;5;241m=\u001b[39mverbose)\n",
      "File \u001b[0;32m~/anaconda3/envs/psfvet/lib/python3.12/site-packages/astroquery/simbad/core.py:1063\u001b[0m, in \u001b[0;36mSimbadClass._parse_result\u001b[0;34m(self, result, resultclass, verbose)\u001b[0m\n\u001b[1;32m   1059\u001b[0m     \u001b[38;5;28;01mexcept\u001b[39;00m \u001b[38;5;167;01mOSError\u001b[39;00m:\n\u001b[1;32m   1060\u001b[0m         \u001b[38;5;66;03m# this is allowed: if `cache` was set to False, this\u001b[39;00m\n\u001b[1;32m   1061\u001b[0m         \u001b[38;5;66;03m# won't be needed\u001b[39;00m\n\u001b[1;32m   1062\u001b[0m         \u001b[38;5;28;01mpass\u001b[39;00m\n\u001b[0;32m-> 1063\u001b[0m     \u001b[38;5;28;01mraise\u001b[39;00m TableParseError(\u001b[38;5;124m\"\u001b[39m\u001b[38;5;124mFailed to parse SIMBAD result! The raw \u001b[39m\u001b[38;5;124m\"\u001b[39m\n\u001b[1;32m   1064\u001b[0m                           \u001b[38;5;124m\"\u001b[39m\u001b[38;5;124mresponse can be found in \u001b[39m\u001b[38;5;124m\"\u001b[39m\n\u001b[1;32m   1065\u001b[0m                           \u001b[38;5;124m\"\u001b[39m\u001b[38;5;124mself.last_response, and the error in \u001b[39m\u001b[38;5;124m\"\u001b[39m\n\u001b[1;32m   1066\u001b[0m                           \u001b[38;5;124m\"\u001b[39m\u001b[38;5;124mself.last_table_parse_error. The attempted\u001b[39m\u001b[38;5;124m\"\u001b[39m\n\u001b[1;32m   1067\u001b[0m                           \u001b[38;5;124m\"\u001b[39m\u001b[38;5;124m parsed result is in \u001b[39m\u001b[38;5;124m\"\u001b[39m\n\u001b[1;32m   1068\u001b[0m                           \u001b[38;5;124m\"\u001b[39m\u001b[38;5;124mself.last_parsed_result.\u001b[39m\u001b[38;5;130;01m\\n\u001b[39;00m\u001b[38;5;124m \u001b[39m\u001b[38;5;124m\"\u001b[39m\n\u001b[1;32m   1069\u001b[0m                           \u001b[38;5;124m\"\u001b[39m\u001b[38;5;124mException: \u001b[39m\u001b[38;5;124m\"\u001b[39m \u001b[38;5;241m+\u001b[39m \u001b[38;5;28mstr\u001b[39m(ex))\n\u001b[1;32m   1070\u001b[0m resulttable\u001b[38;5;241m.\u001b[39merrors \u001b[38;5;241m=\u001b[39m \u001b[38;5;28mself\u001b[39m\u001b[38;5;241m.\u001b[39mlast_parsed_result\u001b[38;5;241m.\u001b[39merrors\n\u001b[1;32m   1071\u001b[0m \u001b[38;5;28;01mreturn\u001b[39;00m resulttable\n",
      "\u001b[0;31mTableParseError\u001b[0m: Failed to parse SIMBAD result! The raw response can be found in self.last_response, and the error in self.last_table_parse_error. The attempted parsed result is in self.last_parsed_result.\n Exception: No table found in VOTABLE file."
     ]
    }
   ],
   "source": [
    "Simbad.query_object_async(\"Betelgeuse\", cache = False)#, get_query_payload = True)"
   ]
  },
  {
   "cell_type": "code",
   "execution_count": 8,
   "id": "ab492d4a",
   "metadata": {},
   "outputs": [
    {
     "name": "stdout",
     "output_type": "stream",
     "text": [
      "Processing (1) HD 123139          \r"
     ]
    },
    {
     "name": "stderr",
     "output_type": "stream",
     "text": [
      "/home/ntschragal/anaconda3/envs/psfvet/lib/python3.12/site-packages/astroquery/simbad/core.py:135: UserWarning: Warning: The script line number 2 raised an error (recorded in the `errors` attribute of the result table): java.lang.NullPointerException\n",
      "  warnings.warn(\"Warning: The script line number %i raised \"\n"
     ]
    },
    {
     "ename": "TableParseError",
     "evalue": "Failed to parse SIMBAD result! The raw response can be found in self.last_response, and the error in self.last_table_parse_error. The attempted parsed result is in self.last_parsed_result.\n Exception: No table found in VOTABLE file.",
     "output_type": "error",
     "traceback": [
      "\u001b[0;31m---------------------------------------------------------------------------\u001b[0m",
      "\u001b[0;31mIndexError\u001b[0m                                Traceback (most recent call last)",
      "File \u001b[0;32m~/anaconda3/envs/psfvet/lib/python3.12/site-packages/astroquery/simbad/core.py:1052\u001b[0m, in \u001b[0;36mSimbadClass._parse_result\u001b[0;34m(self, result, resultclass, verbose)\u001b[0m\n\u001b[1;32m   1051\u001b[0m     \u001b[38;5;28;01mreturn\u001b[39;00m \u001b[38;5;28;01mNone\u001b[39;00m\n\u001b[0;32m-> 1052\u001b[0m resulttable \u001b[38;5;241m=\u001b[39m \u001b[38;5;28mself\u001b[39m\u001b[38;5;241m.\u001b[39mlast_parsed_result\u001b[38;5;241m.\u001b[39mtable\n\u001b[1;32m   1053\u001b[0m \u001b[38;5;28;01mif\u001b[39;00m \u001b[38;5;28mlen\u001b[39m(resulttable) \u001b[38;5;241m==\u001b[39m \u001b[38;5;241m0\u001b[39m:\n",
      "File \u001b[0;32m~/anaconda3/envs/psfvet/lib/python3.12/site-packages/astroquery/simbad/core.py:192\u001b[0m, in \u001b[0;36mSimbadVOTableResult.table\u001b[0;34m(self)\u001b[0m\n\u001b[1;32m    191\u001b[0m \u001b[38;5;28mself\u001b[39m\u001b[38;5;241m.\u001b[39mbytes \u001b[38;5;241m=\u001b[39m BytesIO(\u001b[38;5;28mself\u001b[39m\u001b[38;5;241m.\u001b[39mdata\u001b[38;5;241m.\u001b[39mencode(\u001b[38;5;124m'\u001b[39m\u001b[38;5;124mutf8\u001b[39m\u001b[38;5;124m'\u001b[39m))\n\u001b[0;32m--> 192\u001b[0m tbl \u001b[38;5;241m=\u001b[39m votable\u001b[38;5;241m.\u001b[39mparse_single_table(\u001b[38;5;28mself\u001b[39m\u001b[38;5;241m.\u001b[39mbytes, verify\u001b[38;5;241m=\u001b[39m\u001b[38;5;124m'\u001b[39m\u001b[38;5;124mwarn\u001b[39m\u001b[38;5;124m'\u001b[39m)\n\u001b[1;32m    193\u001b[0m \u001b[38;5;28mself\u001b[39m\u001b[38;5;241m.\u001b[39m__table \u001b[38;5;241m=\u001b[39m tbl\u001b[38;5;241m.\u001b[39mto_table()\n",
      "File \u001b[0;32m~/anaconda3/envs/psfvet/lib/python3.12/site-packages/astropy/io/votable/table.py:197\u001b[0m, in \u001b[0;36mparse_single_table\u001b[0;34m(source, **kwargs)\u001b[0m\n\u001b[1;32m    195\u001b[0m votable \u001b[38;5;241m=\u001b[39m parse(source, \u001b[38;5;241m*\u001b[39m\u001b[38;5;241m*\u001b[39mkwargs)\n\u001b[0;32m--> 197\u001b[0m \u001b[38;5;28;01mreturn\u001b[39;00m votable\u001b[38;5;241m.\u001b[39mget_first_table()\n",
      "File \u001b[0;32m~/anaconda3/envs/psfvet/lib/python3.12/site-packages/astropy/io/votable/tree.py:4012\u001b[0m, in \u001b[0;36mVOTableFile.get_first_table\u001b[0;34m(self)\u001b[0m\n\u001b[1;32m   4011\u001b[0m         \u001b[38;5;28;01mreturn\u001b[39;00m table\n\u001b[0;32m-> 4012\u001b[0m \u001b[38;5;28;01mraise\u001b[39;00m \u001b[38;5;167;01mIndexError\u001b[39;00m(\u001b[38;5;124m\"\u001b[39m\u001b[38;5;124mNo table found in VOTABLE file.\u001b[39m\u001b[38;5;124m\"\u001b[39m)\n",
      "\u001b[0;31mIndexError\u001b[0m: No table found in VOTABLE file.",
      "\nDuring handling of the above exception, another exception occurred:\n",
      "\u001b[0;31mTableParseError\u001b[0m                           Traceback (most recent call last)",
      "Cell \u001b[0;32mIn[8], line 7\u001b[0m\n\u001b[1;32m      5\u001b[0m \u001b[38;5;28mprint\u001b[39m(\u001b[38;5;124m\"\u001b[39m\u001b[38;5;124mProcessing (\u001b[39m\u001b[38;5;132;01m{}\u001b[39;00m\u001b[38;5;124m) \u001b[39m\u001b[38;5;132;01m{}\u001b[39;00m\u001b[38;5;124m          \u001b[39m\u001b[38;5;124m\"\u001b[39m\u001b[38;5;241m.\u001b[39mformat(idx \u001b[38;5;241m+\u001b[39m \u001b[38;5;241m1\u001b[39m, star), end \u001b[38;5;241m=\u001b[39m \u001b[38;5;124m'\u001b[39m\u001b[38;5;130;01m\\r\u001b[39;00m\u001b[38;5;124m'\u001b[39m)\n\u001b[1;32m      6\u001b[0m t0 \u001b[38;5;241m=\u001b[39m time\u001b[38;5;241m.\u001b[39mtime()\n\u001b[0;32m----> 7\u001b[0m simbad_results\u001b[38;5;241m.\u001b[39mappend(Simbad\u001b[38;5;241m.\u001b[39mquery_object(star))\n\u001b[1;32m      8\u001b[0m t1 \u001b[38;5;241m=\u001b[39m time\u001b[38;5;241m.\u001b[39mtime()\n\u001b[1;32m      9\u001b[0m t_elapsed \u001b[38;5;241m=\u001b[39m t1 \u001b[38;5;241m-\u001b[39m t0\n",
      "File \u001b[0;32m~/anaconda3/envs/psfvet/lib/python3.12/site-packages/astroquery/simbad/core.py:548\u001b[0m, in \u001b[0;36mSimbadClass.query_object\u001b[0;34m(self, object_name, wildcard, verbose, get_query_payload)\u001b[0m\n\u001b[1;32m    545\u001b[0m \u001b[38;5;28;01mif\u001b[39;00m get_query_payload:\n\u001b[1;32m    546\u001b[0m     \u001b[38;5;28;01mreturn\u001b[39;00m response\n\u001b[0;32m--> 548\u001b[0m \u001b[38;5;28;01mreturn\u001b[39;00m \u001b[38;5;28mself\u001b[39m\u001b[38;5;241m.\u001b[39m_parse_result(response, SimbadVOTableResult,\n\u001b[1;32m    549\u001b[0m                           verbose\u001b[38;5;241m=\u001b[39mverbose)\n",
      "File \u001b[0;32m~/anaconda3/envs/psfvet/lib/python3.12/site-packages/astroquery/simbad/core.py:1063\u001b[0m, in \u001b[0;36mSimbadClass._parse_result\u001b[0;34m(self, result, resultclass, verbose)\u001b[0m\n\u001b[1;32m   1059\u001b[0m     \u001b[38;5;28;01mexcept\u001b[39;00m \u001b[38;5;167;01mOSError\u001b[39;00m:\n\u001b[1;32m   1060\u001b[0m         \u001b[38;5;66;03m# this is allowed: if `cache` was set to False, this\u001b[39;00m\n\u001b[1;32m   1061\u001b[0m         \u001b[38;5;66;03m# won't be needed\u001b[39;00m\n\u001b[1;32m   1062\u001b[0m         \u001b[38;5;28;01mpass\u001b[39;00m\n\u001b[0;32m-> 1063\u001b[0m     \u001b[38;5;28;01mraise\u001b[39;00m TableParseError(\u001b[38;5;124m\"\u001b[39m\u001b[38;5;124mFailed to parse SIMBAD result! The raw \u001b[39m\u001b[38;5;124m\"\u001b[39m\n\u001b[1;32m   1064\u001b[0m                           \u001b[38;5;124m\"\u001b[39m\u001b[38;5;124mresponse can be found in \u001b[39m\u001b[38;5;124m\"\u001b[39m\n\u001b[1;32m   1065\u001b[0m                           \u001b[38;5;124m\"\u001b[39m\u001b[38;5;124mself.last_response, and the error in \u001b[39m\u001b[38;5;124m\"\u001b[39m\n\u001b[1;32m   1066\u001b[0m                           \u001b[38;5;124m\"\u001b[39m\u001b[38;5;124mself.last_table_parse_error. The attempted\u001b[39m\u001b[38;5;124m\"\u001b[39m\n\u001b[1;32m   1067\u001b[0m                           \u001b[38;5;124m\"\u001b[39m\u001b[38;5;124m parsed result is in \u001b[39m\u001b[38;5;124m\"\u001b[39m\n\u001b[1;32m   1068\u001b[0m                           \u001b[38;5;124m\"\u001b[39m\u001b[38;5;124mself.last_parsed_result.\u001b[39m\u001b[38;5;130;01m\\n\u001b[39;00m\u001b[38;5;124m \u001b[39m\u001b[38;5;124m\"\u001b[39m\n\u001b[1;32m   1069\u001b[0m                           \u001b[38;5;124m\"\u001b[39m\u001b[38;5;124mException: \u001b[39m\u001b[38;5;124m\"\u001b[39m \u001b[38;5;241m+\u001b[39m \u001b[38;5;28mstr\u001b[39m(ex))\n\u001b[1;32m   1070\u001b[0m resulttable\u001b[38;5;241m.\u001b[39merrors \u001b[38;5;241m=\u001b[39m \u001b[38;5;28mself\u001b[39m\u001b[38;5;241m.\u001b[39mlast_parsed_result\u001b[38;5;241m.\u001b[39merrors\n\u001b[1;32m   1071\u001b[0m \u001b[38;5;28;01mreturn\u001b[39;00m resulttable\n",
      "\u001b[0;31mTableParseError\u001b[0m: Failed to parse SIMBAD result! The raw response can be found in self.last_response, and the error in self.last_table_parse_error. The attempted parsed result is in self.last_parsed_result.\n Exception: No table found in VOTABLE file."
     ]
    }
   ],
   "source": [
    "simbad_results = []\n",
    "min_time = 0.25\n",
    "\n",
    "for idx, star in enumerate(all_v3_stars):\n",
    "    print(\"Processing ({}) {}          \".format(idx + 1, star), end = '\\r')\n",
    "    t0 = time.time()\n",
    "    simbad_results.append(Simbad.query_object_async(star, cache = False))\n",
    "    t1 = time.time()\n",
    "    t_elapsed = t1 - t0\n",
    "    if t_elapsed < min_time:\n",
    "        time.sleep(min_time - t_elapsed)"
   ]
  },
  {
   "cell_type": "code",
   "execution_count": 9,
   "id": "30c83926",
   "metadata": {},
   "outputs": [
    {
     "ename": "ValueError",
     "evalue": "no values provided to stack.",
     "output_type": "error",
     "traceback": [
      "\u001b[0;31m---------------------------------------------------------------------------\u001b[0m",
      "\u001b[0;31mValueError\u001b[0m                                Traceback (most recent call last)",
      "Cell \u001b[0;32mIn[9], line 1\u001b[0m\n\u001b[0;32m----> 1\u001b[0m simbad_table \u001b[38;5;241m=\u001b[39m vstack(simbad_results)\n",
      "File \u001b[0;32m~/anaconda3/envs/psfvet/lib/python3.12/site-packages/astropy/table/operations.py:677\u001b[0m, in \u001b[0;36mvstack\u001b[0;34m(tables, join_type, metadata_conflicts)\u001b[0m\n\u001b[1;32m    623\u001b[0m \u001b[38;5;250m\u001b[39m\u001b[38;5;124;03m\"\"\"\u001b[39;00m\n\u001b[1;32m    624\u001b[0m \u001b[38;5;124;03mStack tables vertically (along rows).\u001b[39;00m\n\u001b[1;32m    625\u001b[0m \n\u001b[0;32m   (...)\u001b[0m\n\u001b[1;32m    673\u001b[0m \u001b[38;5;124;03m    6   8\u001b[39;00m\n\u001b[1;32m    674\u001b[0m \u001b[38;5;124;03m\"\"\"\u001b[39;00m\n\u001b[1;32m    675\u001b[0m _check_join_type(join_type, \u001b[38;5;124m\"\u001b[39m\u001b[38;5;124mvstack\u001b[39m\u001b[38;5;124m\"\u001b[39m)\n\u001b[0;32m--> 677\u001b[0m tables \u001b[38;5;241m=\u001b[39m _get_list_of_tables(tables)  \u001b[38;5;66;03m# validates input\u001b[39;00m\n\u001b[1;32m    678\u001b[0m \u001b[38;5;28;01mif\u001b[39;00m \u001b[38;5;28mlen\u001b[39m(tables) \u001b[38;5;241m==\u001b[39m \u001b[38;5;241m1\u001b[39m:\n\u001b[1;32m    679\u001b[0m     \u001b[38;5;28;01mreturn\u001b[39;00m tables[\u001b[38;5;241m0\u001b[39m]  \u001b[38;5;66;03m# no point in stacking a single table\u001b[39;00m\n",
      "File \u001b[0;32m~/anaconda3/envs/psfvet/lib/python3.12/site-packages/astropy/table/operations.py:60\u001b[0m, in \u001b[0;36m_get_list_of_tables\u001b[0;34m(tables)\u001b[0m\n\u001b[1;32m     58\u001b[0m \u001b[38;5;66;03m# Make sure there is something to stack\u001b[39;00m\n\u001b[1;32m     59\u001b[0m \u001b[38;5;28;01mif\u001b[39;00m \u001b[38;5;28mlen\u001b[39m(tables) \u001b[38;5;241m==\u001b[39m \u001b[38;5;241m0\u001b[39m:\n\u001b[0;32m---> 60\u001b[0m     \u001b[38;5;28;01mraise\u001b[39;00m \u001b[38;5;167;01mValueError\u001b[39;00m(\u001b[38;5;124m\"\u001b[39m\u001b[38;5;124mno values provided to stack.\u001b[39m\u001b[38;5;124m\"\u001b[39m)\n\u001b[1;32m     62\u001b[0m \u001b[38;5;66;03m# Convert inputs (Table, Row, or anything column-like) to Tables.\u001b[39;00m\n\u001b[1;32m     63\u001b[0m \u001b[38;5;66;03m# Special case that Quantity converts to a QTable.\u001b[39;00m\n\u001b[1;32m     64\u001b[0m \u001b[38;5;28;01mfor\u001b[39;00m ii, val \u001b[38;5;129;01min\u001b[39;00m \u001b[38;5;28menumerate\u001b[39m(tables):\n",
      "\u001b[0;31mValueError\u001b[0m: no values provided to stack."
     ]
    }
   ],
   "source": [
    "simbad_table = vstack(simbad_results)"
   ]
  },
  {
   "cell_type": "code",
   "execution_count": null,
   "id": "189045da",
   "metadata": {},
   "outputs": [],
   "source": [
    "simbad_table.write(savedir + \"simbad_table.fits\", format = 'fits')"
   ]
  },
  {
   "cell_type": "markdown",
   "id": "414df635",
   "metadata": {},
   "source": [
    "***"
   ]
  },
  {
   "cell_type": "code",
   "execution_count": 20,
   "id": "2a1dedad",
   "metadata": {},
   "outputs": [],
   "source": [
    "catalogs = {\n",
    "    'wds': 'B/wds',\n",
    "    'bourges17': 'II/346',\n",
    "    'duvert16': 'II/345',\n",
    "    'stevens17': 'J/AJ/154/259',\n",
    "    'swihart17': 'J/AJ/153/16',\n",
    "}"
   ]
  },
  {
   "cell_type": "code",
   "execution_count": 21,
   "id": "665c8163",
   "metadata": {},
   "outputs": [],
   "source": [
    "v3_table = Table(\n",
    "    [all_v3_stars,],\n",
    "    names = ('id',),\n",
    ")\n",
    "\n",
    "#v3_table.show_in_notebook()"
   ]
  },
  {
   "cell_type": "code",
   "execution_count": 22,
   "id": "07eb8b80",
   "metadata": {},
   "outputs": [
    {
     "name": "stdout",
     "output_type": "stream",
     "text": [
      "Processing (181) HD 141891           \r"
     ]
    }
   ],
   "source": [
    "cat = catalogs['wds']\n",
    "\n",
    "wd_companions = []\n",
    "min_seps = []\n",
    "min_mags = []\n",
    "\n",
    "for idx, row in enumerate(v3_table):\n",
    "    \n",
    "    name = row['id']\n",
    "    \n",
    "    print(\"Processing ({}) {}          \".format(idx + 1, name), end = '\\r')\n",
    "    \n",
    "    result = Vizier.query_object(name, catalog = [cat])\n",
    "    \n",
    "    if len(result) == 0:\n",
    "        wd_companions.append(0)\n",
    "        min_seps.append(np.nan)\n",
    "        min_mags.append(np.nan)\n",
    "    else:\n",
    "        res = result[0]\n",
    "        wd_companions.append(len(res))\n",
    "        min_sep = np.amin([np.amin(res['sep1']), np.amin(res['sep2'])])\n",
    "        min_seps.append(min_sep)\n",
    "        min_mag = np.amin(res['mag2'])\n",
    "        min_mags.append(min_mag)"
   ]
  },
  {
   "cell_type": "code",
   "execution_count": 26,
   "id": "b1ab3114",
   "metadata": {},
   "outputs": [],
   "source": [
    "v3_table['wd_comps'] = wd_companions\n",
    "v3_table['wd_min_comp_sep'] = np.array(min_seps) * u.arcsec\n",
    "v3_table['wd_min_comp_mag'] = min_mags"
   ]
  },
  {
   "cell_type": "code",
   "execution_count": 27,
   "id": "9d4965dd",
   "metadata": {},
   "outputs": [
    {
     "data": {
      "text/html": [
       "<i>Table length=181</i>\n",
       "<table id=\"table140457245028528-504764\" class=\"table-striped table-bordered table-condensed\">\n",
       "<thead><tr><th>idx</th><th>id</th><th>wd_comps</th><th>wd_min_comp_sep</th><th>wd_min_comp_mag</th></tr></thead>\n",
       "<thead><tr><th></th><th></th><th></th><th>arcsec</th><th></th></tr></thead>\n",
       "<tr><td>0</td><td>HD 123139</td><td>2</td><td>3.0</td><td>14.0</td></tr>\n",
       "<tr><td>1</td><td>HD 207098</td><td>2</td><td>49.900001525878906</td><td>13.140000343322754</td></tr>\n",
       "<tr><td>2</td><td>HD 40312</td><td>3</td><td>2.0999999046325684</td><td>7.199999809265137</td></tr>\n",
       "<tr><td>3</td><td>HD 58350</td><td>1</td><td>169.0</td><td>6.769999980926514</td></tr>\n",
       "<tr><td>4</td><td>HD 215182</td><td>9</td><td>0.10000000149011612</td><td>6.900000095367432</td></tr>\n",
       "<tr><td>5</td><td>HD 44478</td><td>5</td><td>0.800000011920929</td><td>11.289999961853027</td></tr>\n",
       "<tr><td>6</td><td>HD 146051</td><td>2</td><td>64.5999984741211</td><td>11.369999885559082</td></tr>\n",
       "<tr><td>7</td><td>HD 37742</td><td>4</td><td>0.0</td><td>3.700000047683716</td></tr>\n",
       "<tr><td>8</td><td>HD 3712</td><td>3</td><td>17.600000381469727</td><td>8.979999542236328</td></tr>\n",
       "<tr><td>9</td><td>HD 112413</td><td>2</td><td>19.299999237060547</td><td>5.519999980926514</td></tr>\n",
       "<tr><td>10</td><td>HD 10144</td><td>1</td><td>0.30000001192092896</td><td>2.0999999046325684</td></tr>\n",
       "<tr><td>11</td><td>HD 2151</td><td>0</td><td>nan</td><td>nan</td></tr>\n",
       "<tr><td>12</td><td>HD 157244</td><td>0</td><td>nan</td><td>nan</td></tr>\n",
       "<tr><td>13</td><td>HD 71129</td><td>1</td><td>0.4000000059604645</td><td>3.859999895095825</td></tr>\n",
       "<tr><td>14</td><td>HD 37043</td><td>4</td><td>0.10000000149011612</td><td>6.300000190734863</td></tr>\n",
       "<tr><td>15</td><td>HD 105707</td><td>0</td><td>nan</td><td>nan</td></tr>\n",
       "<tr><td>16</td><td>HD 111123</td><td>4</td><td>10.399999618530273</td><td>7.170000076293945</td></tr>\n",
       "<tr><td>17</td><td>HD 194093</td><td>1</td><td>140.39999389648438</td><td>11.039999961853027</td></tr>\n",
       "<tr><td>18</td><td>HD 128621</td><td>2</td><td>5.300000190734863</td><td>1.3300000429153442</td></tr>\n",
       "<tr><td>19</td><td>HD 151890</td><td>3</td><td>8.899999618530273</td><td>3.509999990463257</td></tr>\n",
       "<tr><td>20</td><td>HD 109379</td><td>0</td><td>nan</td><td>nan</td></tr>\n",
       "<tr><td>21</td><td>HD 147165</td><td>3</td><td>0.0</td><td>4.099999904632568</td></tr>\n",
       "<tr><td>22</td><td>HD 68273</td><td>9</td><td>0.0</td><td>4.139999866485596</td></tr>\n",
       "<tr><td>23</td><td>HD 35468</td><td>4</td><td>5.800000190734863</td><td>13.130000114440918</td></tr>\n",
       "<tr><td>24</td><td>HD 149757</td><td>0</td><td>nan</td><td>nan</td></tr>\n",
       "<tr><td>25</td><td>HD 164058</td><td>6</td><td>20.600000381469727</td><td>11.229999542236328</td></tr>\n",
       "<tr><td>26</td><td>HD 132058</td><td>1</td><td>194.89999389648438</td><td>11.289999961853027</td></tr>\n",
       "<tr><td>27</td><td>HD 8538</td><td>1</td><td>110.0999984741211</td><td>11.890000343322754</td></tr>\n",
       "<tr><td>28</td><td>HD 135742</td><td>1</td><td>2.0999999046325684</td><td>16.299999237060547</td></tr>\n",
       "<tr><td>29</td><td>HD 58715</td><td>10</td><td>4.0</td><td>11.600000381469727</td></tr>\n",
       "<tr><td>30</td><td>HD 204867</td><td>2</td><td>33.29999923706055</td><td>11.0</td></tr>\n",
       "<tr><td>31</td><td>HD 102647</td><td>3</td><td>39.099998474121094</td><td>8.489999771118164</td></tr>\n",
       "<tr><td>32</td><td>HD 31964</td><td>10</td><td>28.799999237060547</td><td>9.600000381469727</td></tr>\n",
       "<tr><td>33</td><td>HD 36079</td><td>4</td><td>2.700000047683716</td><td>7.5</td></tr>\n",
       "<tr><td>34</td><td>HD 121263</td><td>0</td><td>nan</td><td>nan</td></tr>\n",
       "<tr><td>35</td><td>HD 89484</td><td>4</td><td>3.700000047683716</td><td>3.640000104904175</td></tr>\n",
       "<tr><td>36</td><td>HD 168454</td><td>3</td><td>25.799999237060547</td><td>11.899999618530273</td></tr>\n",
       "<tr><td>37</td><td>HD 108903</td><td>2</td><td>93.0999984741211</td><td>6.449999809265137</td></tr>\n",
       "<tr><td>38</td><td>HD 161096</td><td>0</td><td>nan</td><td>nan</td></tr>\n",
       "<tr><td>39</td><td>HD 143275</td><td>1</td><td>0.10000000149011612</td><td>4.619999885559082</td></tr>\n",
       "<tr><td>40</td><td>HD 217906</td><td>2</td><td>80.0</td><td>10.539999961853027</td></tr>\n",
       "<tr><td>41</td><td>HD 216956</td><td>3</td><td>12.600000381469727</td><td>6.599999904632568</td></tr>\n",
       "<tr><td>42</td><td>HD 120315</td><td>0</td><td>nan</td><td>nan</td></tr>\n",
       "<tr><td>43</td><td>HD 211416</td><td>0</td><td>nan</td><td>nan</td></tr>\n",
       "<tr><td>44</td><td>HD 140573</td><td>2</td><td>50.0</td><td>11.800000190734863</td></tr>\n",
       "<tr><td>45</td><td>HD 95689A</td><td>2</td><td>0.800000011920929</td><td>4.949999809265137</td></tr>\n",
       "<tr><td>46</td><td>HD 66811</td><td>0</td><td>nan</td><td>nan</td></tr>\n",
       "<tr><td>47</td><td>HD 44402</td><td>2</td><td>0.0</td><td>3.799999952316284</td></tr>\n",
       "<tr><td>48</td><td>HD 138690</td><td>3</td><td>0.800000011920929</td><td>3.5399999618530273</td></tr>\n",
       "<tr><td>49</td><td>HD 84441</td><td>0</td><td>nan</td><td>nan</td></tr>\n",
       "<tr><td>50</td><td>HD 159532</td><td>2</td><td>0.20000000298023224</td><td>5.300000190734863</td></tr>\n",
       "<tr><td>51</td><td>HD 159532A</td><td>2</td><td>0.20000000298023224</td><td>5.300000190734863</td></tr>\n",
       "<tr><td>52</td><td>HD 150680</td><td>1</td><td>0.8999999761581421</td><td>5.400000095367432</td></tr>\n",
       "<tr><td>53</td><td>HD 48329</td><td>1</td><td>109.9000015258789</td><td>9.640000343322754</td></tr>\n",
       "<tr><td>54</td><td>HD 19356</td><td>11</td><td>0.0</td><td>4.599999904632568</td></tr>\n",
       "<tr><td>55</td><td>HD 108249</td><td>11</td><td>2.200000047683716</td><td>1.5499999523162842</td></tr>\n",
       "<tr><td>56</td><td>HD 197989</td><td>4</td><td>0.0</td><td>11.600000381469727</td></tr>\n",
       "<tr><td>57</td><td>HD 155125</td><td>4</td><td>0.4000000059604645</td><td>3.2699999809265137</td></tr>\n",
       "<tr><td>58</td><td>HD 6860</td><td>11</td><td>6.0</td><td>10.699999809265137</td></tr>\n",
       "<tr><td>59</td><td>HD 206778</td><td>2</td><td>83.19999694824219</td><td>8.739999771118164</td></tr>\n",
       "<tr><td>60</td><td>HD 148478</td><td>1</td><td>2.5999999046325684</td><td>5.400000095367432</td></tr>\n",
       "<tr><td>61</td><td>HD 193924</td><td>3</td><td>59.099998474121094</td><td>9.140000343322754</td></tr>\n",
       "<tr><td>62</td><td>HD 78647</td><td>1</td><td>17.100000381469727</td><td>14.800000190734863</td></tr>\n",
       "<tr><td>63</td><td>HD 106490</td><td>0</td><td>nan</td><td>nan</td></tr>\n",
       "<tr><td>64</td><td>HD 218045</td><td>0</td><td>nan</td><td>nan</td></tr>\n",
       "<tr><td>65</td><td>HD 60179</td><td>7</td><td>0.0</td><td>2.9700000286102295</td></tr>\n",
       "<tr><td>66</td><td>HD 20902</td><td>1</td><td>164.0</td><td>12.8100004196167</td></tr>\n",
       "<tr><td>67</td><td>HD 129056</td><td>2</td><td>6.5</td><td>14.0</td></tr>\n",
       "<tr><td>68</td><td>HD 124897</td><td>1</td><td>0.30000001192092896</td><td>3.490000009536743</td></tr>\n",
       "<tr><td>69</td><td>HD 18925</td><td>2</td><td>0.10000000149011612</td><td>3.799999952316284</td></tr>\n",
       "<tr><td>70</td><td>HD 18926</td><td>2</td><td>0.10000000149011612</td><td>3.799999952316284</td></tr>\n",
       "<tr><td>71</td><td>HD 52089</td><td>1</td><td>7.699999809265137</td><td>7.5</td></tr>\n",
       "<tr><td>72</td><td>HD 39801</td><td>11</td><td>0.10000000149011612</td><td>11.0</td></tr>\n",
       "<tr><td>73</td><td>HD 12533</td><td>3</td><td>0.30000001192092896</td><td>5.019999980926514</td></tr>\n",
       "<tr><td>74</td><td>HD 93030</td><td>0</td><td>nan</td><td>nan</td></tr>\n",
       "<tr><td>75</td><td>HD 110304</td><td>3</td><td>0.5</td><td>2.880000114440918</td></tr>\n",
       "<tr><td>76</td><td>HD 36673</td><td>2</td><td>25.0</td><td>11.199999809265137</td></tr>\n",
       "<tr><td>77</td><td>HD 36673A</td><td>2</td><td>25.0</td><td>11.199999809265137</td></tr>\n",
       "<tr><td>78</td><td>HD 161471</td><td>1</td><td>37.900001525878906</td><td>13.0</td></tr>\n",
       "<tr><td>79</td><td>HD 175191</td><td>2</td><td>0.0</td><td>9.949999809265137</td></tr>\n",
       "<tr><td>80</td><td>HD 886</td><td>1</td><td>164.10000610351562</td><td>12.65999984741211</td></tr>\n",
       "<tr><td>81</td><td>HD 116658</td><td>4</td><td>-1.0</td><td>4.5</td></tr>\n",
       "<tr><td>82</td><td>HD 93497A</td><td>1</td><td>2.299999952316284</td><td>5.650000095367432</td></tr>\n",
       "<tr><td>83</td><td>HD 150798</td><td>1</td><td>92.19999694824219</td><td>11.449999809265137</td></tr>\n",
       "<tr><td>84</td><td>HD 24760</td><td>3</td><td>8.600000381469727</td><td>8.880000114440918</td></tr>\n",
       "<tr><td>85</td><td>HD 81797</td><td>2</td><td>210.0</td><td>9.699999809265137</td></tr>\n",
       "<tr><td>86</td><td>HD 143018</td><td>3</td><td>2.0</td><td>11.899999618530273</td></tr>\n",
       "<tr><td>87</td><td>HD 11636</td><td>1</td><td>0.10000000149011612</td><td>5.199999809265137</td></tr>\n",
       "<tr><td>88</td><td>HD 95689</td><td>2</td><td>0.800000011920929</td><td>4.949999809265137</td></tr>\n",
       "<tr><td>89</td><td>HD 159181</td><td>3</td><td>4.0</td><td>13.449999809265137</td></tr>\n",
       "<tr><td>90</td><td>HD 432</td><td>2</td><td>22.600000381469727</td><td>11.300000190734863</td></tr>\n",
       "<tr><td>91</td><td>HD 118716</td><td>2</td><td>0.20000000298023224</td><td>4.900000095367432</td></tr>\n",
       "<tr><td>92</td><td>HD 148387</td><td>4</td><td>4.400000095367432</td><td>8.100000381469727</td></tr>\n",
       "<tr><td>93</td><td>HD 108767</td><td>4</td><td>6.699999809265137</td><td>8.470000267028809</td></tr>\n",
       "<tr><td>94</td><td>HD 112185</td><td>1</td><td>0.10000000149011612</td><td>--</td></tr>\n",
       "<tr><td>95</td><td>HD 54605</td><td>1</td><td>265.0</td><td>8.760000228881836</td></tr>\n",
       "<tr><td>96</td><td>HD 25025</td><td>2</td><td>30.0</td><td>12.0</td></tr>\n",
       "<tr><td>97</td><td>HD 129989</td><td>2</td><td>2.700000047683716</td><td>4.809999942779541</td></tr>\n",
       "<tr><td>98</td><td>HD 67523</td><td>1</td><td>26.600000381469727</td><td>13.800000190734863</td></tr>\n",
       "<tr><td>99</td><td>HD 8890</td><td>6</td><td>0.10000000149011612</td><td>4.300000190734863</td></tr>\n",
       "<tr><td>100</td><td>HD 36486</td><td>3</td><td>0.20000000298023224</td><td>3.759999990463257</td></tr>\n",
       "<tr><td>101</td><td>HD 148856</td><td>2</td><td>0.0</td><td>6.5</td></tr>\n",
       "<tr><td>102</td><td>HD 80007</td><td>0</td><td>nan</td><td>nan</td></tr>\n",
       "<tr><td>103</td><td>HD 177724</td><td>4</td><td>5.0</td><td>10.649999618530273</td></tr>\n",
       "<tr><td>104</td><td>HD 93497</td><td>1</td><td>2.299999952316284</td><td>5.650000095367432</td></tr>\n",
       "<tr><td>105</td><td>HD 115892</td><td>0</td><td>nan</td><td>nan</td></tr>\n",
       "<tr><td>106</td><td>HD 160578</td><td>3</td><td>0.0</td><td>6.599999904632568</td></tr>\n",
       "<tr><td>107</td><td>HD 47105</td><td>3</td><td>0.10000000149011612</td><td>7.5</td></tr>\n",
       "<tr><td>108</td><td>HD 34085</td><td>3</td><td>0.10000000149011612</td><td>6.800000190734863</td></tr>\n",
       "<tr><td>109</td><td>HD 128620</td><td>2</td><td>5.300000190734863</td><td>1.3300000429153442</td></tr>\n",
       "<tr><td>110</td><td>HD 214952</td><td>0</td><td>nan</td><td>nan</td></tr>\n",
       "<tr><td>111</td><td>HD 108248</td><td>11</td><td>2.200000047683716</td><td>1.5499999523162842</td></tr>\n",
       "<tr><td>112</td><td>HD 158926</td><td>3</td><td>0.0</td><td>2.7300000190734863</td></tr>\n",
       "<tr><td>113</td><td>HD 197345</td><td>1</td><td>75.5999984741211</td><td>11.699999809265137</td></tr>\n",
       "<tr><td>114</td><td>HD 203280</td><td>1</td><td>196.60000610351562</td><td>11.460000038146973</td></tr>\n",
       "<tr><td>115</td><td>HD 135382</td><td>1</td><td>142.89999389648438</td><td>10.649999618530273</td></tr>\n",
       "<tr><td>116</td><td>HD 56855</td><td>2</td><td>0.699999988079071</td><td>6.489999771118164</td></tr>\n",
       "<tr><td>117</td><td>HD 31398</td><td>0</td><td>nan</td><td>nan</td></tr>\n",
       "<tr><td>118</td><td>HD 109668</td><td>5</td><td>0.0</td><td>5.5</td></tr>\n",
       "<tr><td>119</td><td>HD 97603</td><td>3</td><td>44.79999923706055</td><td>10.869999885559082</td></tr>\n",
       "<tr><td>120</td><td>HD 33111</td><td>2</td><td>118.30000305175781</td><td>10.899999618530273</td></tr>\n",
       "<tr><td>121</td><td>HD 38771</td><td>0</td><td>nan</td><td>nan</td></tr>\n",
       "<tr><td>122</td><td>HD 165135</td><td>0</td><td>nan</td><td>nan</td></tr>\n",
       "<tr><td>123</td><td>HD 127972</td><td>0</td><td>nan</td><td>nan</td></tr>\n",
       "<tr><td>124</td><td>HD 127973</td><td>0</td><td>nan</td><td>nan</td></tr>\n",
       "<tr><td>125</td><td>HD 40183</td><td>3</td><td>0.0</td><td>3.5</td></tr>\n",
       "<tr><td>126</td><td>HD 187642</td><td>6</td><td>26.799999237060547</td><td>9.819999694824219</td></tr>\n",
       "<tr><td>127</td><td>HD 358</td><td>3</td><td>0.0</td><td>4.210000038146973</td></tr>\n",
       "<tr><td>128</td><td>HD 172167</td><td>24</td><td>0.6000000238418579</td><td>9.5</td></tr>\n",
       "<tr><td>129</td><td>HD 18884</td><td>0</td><td>nan</td><td>nan</td></tr>\n",
       "<tr><td>130</td><td>HD 12929</td><td>0</td><td>nan</td><td>nan</td></tr>\n",
       "<tr><td>131</td><td>HD 37795</td><td>1</td><td>6.0</td><td>12.5</td></tr>\n",
       "<tr><td>132</td><td>HD 121370</td><td>1</td><td>114.9000015258789</td><td>9.989999771118164</td></tr>\n",
       "<tr><td>133</td><td>HD 106625</td><td>1</td><td>1.100000023841858</td><td>9.699999809265137</td></tr>\n",
       "<tr><td>134</td><td>HD 29139</td><td>4</td><td>30.5</td><td>11.300000190734863</td></tr>\n",
       "<tr><td>135</td><td>HD 209750</td><td>2</td><td>110.0</td><td>2.9000000953674316</td></tr>\n",
       "<tr><td>136</td><td>HD 149438</td><td>1</td><td>0.0</td><td>5.800000190734863</td></tr>\n",
       "<tr><td>137</td><td>HD 95418</td><td>0</td><td>nan</td><td>nan</td></tr>\n",
       "<tr><td>138</td><td>HD 48915</td><td>6</td><td>0.800000011920929</td><td>8.4399995803833</td></tr>\n",
       "<tr><td>139</td><td>HD 48915A</td><td>6</td><td>0.800000011920929</td><td>8.4399995803833</td></tr>\n",
       "<tr><td>140</td><td>HD 62509</td><td>5</td><td>39.79999923706055</td><td>10.510000228881836</td></tr>\n",
       "<tr><td>141</td><td>HD 87901</td><td>2</td><td>168.3000030517578</td><td>8.239999771118164</td></tr>\n",
       "<tr><td>142</td><td>HD 24398</td><td>9</td><td>12.800000190734863</td><td>9.15999984741211</td></tr>\n",
       "<tr><td>143</td><td>HD 34029</td><td>13</td><td>0.0</td><td>0.18000000715255737</td></tr>\n",
       "<tr><td>144</td><td>HD 209952</td><td>1</td><td>17.0</td><td>12.300000190734863</td></tr>\n",
       "<tr><td>145</td><td>HD 37128</td><td>1</td><td>160.0</td><td>11.34000015258789</td></tr>\n",
       "<tr><td>146</td><td>HD 80404</td><td>0</td><td>nan</td><td>nan</td></tr>\n",
       "<tr><td>147</td><td>HD 144217</td><td>5</td><td>0.0</td><td>4.099999904632568</td></tr>\n",
       "<tr><td>148</td><td>HD 131873</td><td>1</td><td>165.0</td><td>12.770000457763672</td></tr>\n",
       "<tr><td>149</td><td>HD 139006</td><td>0</td><td>nan</td><td>nan</td></tr>\n",
       "<tr><td>150</td><td>HD 186882</td><td>5</td><td>1.899999976158142</td><td>6.269999980926514</td></tr>\n",
       "<tr><td>151</td><td>HD 159561</td><td>1</td><td>0.5</td><td>5.0</td></tr>\n",
       "<tr><td>152</td><td>HD 158427</td><td>1</td><td>48.70000076293945</td><td>11.130000114440918</td></tr>\n",
       "<tr><td>153</td><td>HD 44743</td><td>1</td><td>185.0</td><td>10.489999771118164</td></tr>\n",
       "<tr><td>154</td><td>HD 178524</td><td>2</td><td>0.10000000149011612</td><td>3.5999999046325684</td></tr>\n",
       "<tr><td>155</td><td>HD 113226</td><td>1</td><td>229.0</td><td>11.899999618530273</td></tr>\n",
       "<tr><td>156</td><td>HD 169916</td><td>1</td><td>82.5</td><td>9.869999885559082</td></tr>\n",
       "<tr><td>157</td><td>HD 35497</td><td>8</td><td>0.10000000149011612</td><td>2.4000000953674316</td></tr>\n",
       "<tr><td>158</td><td>HD 105435</td><td>3</td><td>0.10000000149011612</td><td>4.420000076293945</td></tr>\n",
       "<tr><td>159</td><td>HD 186791</td><td>5</td><td>50.79999923706055</td><td>10.899999618530273</td></tr>\n",
       "<tr><td>160</td><td>HD 176687</td><td>2</td><td>0.20000000298023224</td><td>3.4800000190734863</td></tr>\n",
       "<tr><td>161</td><td>HD 158408</td><td>0</td><td>nan</td><td>nan</td></tr>\n",
       "<tr><td>162</td><td>HD 110379J</td><td>8</td><td>3.200000047683716</td><td>3.5299999713897705</td></tr>\n",
       "<tr><td>163</td><td>HD 110379</td><td>8</td><td>3.200000047683716</td><td>3.5299999713897705</td></tr>\n",
       "<tr><td>164</td><td>HD 50310</td><td>0</td><td>nan</td><td>nan</td></tr>\n",
       "<tr><td>165</td><td>HD 151680</td><td>0</td><td>nan</td><td>nan</td></tr>\n",
       "<tr><td>166</td><td>HD 85123</td><td>1</td><td>4.900000095367432</td><td>6.0</td></tr>\n",
       "<tr><td>167</td><td>HD 23630</td><td>11</td><td>-1.0</td><td>4.599999904632568</td></tr>\n",
       "<tr><td>168</td><td>HD 12311</td><td>0</td><td>nan</td><td>nan</td></tr>\n",
       "<tr><td>169</td><td>HD 116656</td><td>6</td><td>0.0</td><td>3.0</td></tr>\n",
       "<tr><td>170</td><td>HD 4128</td><td>0</td><td>nan</td><td>nan</td></tr>\n",
       "<tr><td>171</td><td>HD 130841</td><td>5</td><td>0.0</td><td>3.700000047683716</td></tr>\n",
       "<tr><td>172</td><td>HD 5394</td><td>3</td><td>2.0999999046325684</td><td>5.559999942779541</td></tr>\n",
       "<tr><td>173</td><td>HD 103287</td><td>1</td><td>999.9000244140625</td><td>8.210000038146973</td></tr>\n",
       "<tr><td>174</td><td>HD 2261</td><td>1</td><td>183.0</td><td>9.399999618530273</td></tr>\n",
       "<tr><td>175</td><td>HD 122451</td><td>2</td><td>0.0</td><td>1.440000057220459</td></tr>\n",
       "<tr><td>176</td><td>HD 61421</td><td>6</td><td>3.799999952316284</td><td>8.850000381469727</td></tr>\n",
       "<tr><td>177</td><td>HD 45348</td><td>2</td><td>151.8000030517578</td><td>14.800000190734863</td></tr>\n",
       "<tr><td>178</td><td>HD 81188</td><td>0</td><td>nan</td><td>nan</td></tr>\n",
       "<tr><td>179</td><td>HD 169022</td><td>3</td><td>2.200000047683716</td><td>8.399999618530273</td></tr>\n",
       "<tr><td>180</td><td>HD 141891</td><td>1</td><td>152.10000610351562</td><td>14.0</td></tr>\n",
       "</table><style>table.dataTable {clear: both; width: auto !important; margin: 0 !important;}\n",
       ".dataTables_info, .dataTables_length, .dataTables_filter, .dataTables_paginate{\n",
       "display: inline-block; margin-right: 1em; }\n",
       ".paginate_button { margin-right: 5px; }\n",
       "</style>\n",
       "<script>\n",
       "\n",
       "var astropy_sort_num = function(a, b) {\n",
       "    var a_num = parseFloat(a);\n",
       "    var b_num = parseFloat(b);\n",
       "\n",
       "    if (isNaN(a_num) && isNaN(b_num))\n",
       "        return ((a < b) ? -1 : ((a > b) ? 1 : 0));\n",
       "    else if (!isNaN(a_num) && !isNaN(b_num))\n",
       "        return ((a_num < b_num) ? -1 : ((a_num > b_num) ? 1 : 0));\n",
       "    else\n",
       "        return isNaN(a_num) ? -1 : 1;\n",
       "}\n",
       "\n",
       "require.config({paths: {\n",
       "    datatables: 'https://cdn.datatables.net/1.10.12/js/jquery.dataTables.min'\n",
       "}});\n",
       "require([\"datatables\"], function(){\n",
       "    console.log(\"$('#table140457245028528-504764').dataTable()\");\n",
       "    \n",
       "jQuery.extend( jQuery.fn.dataTableExt.oSort, {\n",
       "    \"optionalnum-asc\": astropy_sort_num,\n",
       "    \"optionalnum-desc\": function (a,b) { return -astropy_sort_num(a, b); }\n",
       "});\n",
       "\n",
       "    $('#table140457245028528-504764').dataTable({\n",
       "        order: [],\n",
       "        pageLength: 50,\n",
       "        lengthMenu: [[10, 25, 50, 100, 500, 1000, -1], [10, 25, 50, 100, 500, 1000, 'All']],\n",
       "        pagingType: \"full_numbers\",\n",
       "        columnDefs: [{targets: [0, 2, 3, 4], type: \"optionalnum\"}]\n",
       "    });\n",
       "});\n",
       "</script>\n"
      ],
      "text/plain": [
       "<IPython.core.display.HTML object>"
      ]
     },
     "execution_count": 27,
     "metadata": {},
     "output_type": "execute_result"
    }
   ],
   "source": [
    "#v3_table[v3_table['wd_comps']==0].show_in_notebook()\n",
    "v3_table.show_in_notebook()"
   ]
  },
  {
   "cell_type": "markdown",
   "id": "72588ac9",
   "metadata": {},
   "source": [
    "***"
   ]
  },
  {
   "cell_type": "code",
   "execution_count": 26,
   "id": "474dfda5",
   "metadata": {},
   "outputs": [],
   "source": [
    "result = Vizier.query_object('Trappist-1', catalog = [cat])"
   ]
  },
  {
   "cell_type": "code",
   "execution_count": 27,
   "id": "297900de",
   "metadata": {},
   "outputs": [
    {
     "data": {
      "text/plain": [
       "'HD 40312'"
      ]
     },
     "execution_count": 27,
     "metadata": {},
     "output_type": "execute_result"
    }
   ],
   "source": [
    "all_v3_stars[2]"
   ]
  },
  {
   "cell_type": "code",
   "execution_count": 28,
   "id": "00dedbba",
   "metadata": {},
   "outputs": [
    {
     "data": {
      "text/plain": [
       "0"
      ]
     },
     "execution_count": 28,
     "metadata": {},
     "output_type": "execute_result"
    }
   ],
   "source": [
    "len(result)"
   ]
  },
  {
   "cell_type": "code",
   "execution_count": 29,
   "id": "a34a5a22",
   "metadata": {},
   "outputs": [
    {
     "data": {
      "text/plain": [
       "\u001b[0;31mType:\u001b[0m        TableList\n",
       "\u001b[0;31mString form:\u001b[0m Empty TableList\n",
       "\u001b[0;31mLength:\u001b[0m      0\n",
       "\u001b[0;31mFile:\u001b[0m        ~/anaconda3/envs/psfvet/lib/python3.12/site-packages/astroquery/utils/commons.py\n",
       "\u001b[0;31mDocstring:\u001b[0m  \n",
       "A class that inherits from `list` but included some pretty printing methods\n",
       "for an OrderedDict of `astropy.table.Table` objects.\n",
       "\n",
       "HINT: To access the tables by # instead of by table ID:\n",
       ">>> t = TableList([('a',1),('b',2)])\n",
       ">>> t[1]\n",
       "2\n",
       ">>> t['b']\n",
       "2"
      ]
     },
     "metadata": {},
     "output_type": "display_data"
    }
   ],
   "source": [
    "?result"
   ]
  },
  {
   "cell_type": "code",
   "execution_count": 23,
   "id": "9a70e134",
   "metadata": {},
   "outputs": [
    {
     "data": {
      "text/html": [
       "<div><i>Table length=1</i>\n",
       "<table id=\"table139827840766928\" class=\"table-striped table-bordered table-condensed\">\n",
       "<thead><tr><th>WDS</th><th>Disc</th><th>Comp</th><th>Obs1</th><th>Obs2</th><th>pa1</th><th>pa2</th><th>sep1</th><th>sep2</th><th>mag1</th><th>mag2</th><th>DM</th><th>Notes</th><th>n_RAJ2000</th><th>RAJ2000</th><th>DEJ2000</th><th>_RA.icrs</th><th>_DE.icrs</th></tr></thead>\n",
       "<thead><tr><th></th><th></th><th></th><th>yr</th><th>yr</th><th>deg</th><th>deg</th><th>arcsec</th><th>arcsec</th><th>mag</th><th>mag</th><th></th><th></th><th></th><th></th><th></th><th></th><th></th></tr></thead>\n",
       "<thead><tr><th>str10</th><th>str7</th><th>str5</th><th>int16</th><th>int16</th><th>int16</th><th>int16</th><th>float32</th><th>float32</th><th>float32</th><th>float32</th><th>str9</th><th>str4</th><th>str1</th><th>str11</th><th>str11</th><th>str11</th><th>str11</th></tr></thead>\n",
       "<tr><td>07241-2918</td><td>SMY   2</td><td></td><td>1833</td><td>2020</td><td>285</td><td>287</td><td>169.0</td><td>177.00</td><td>2.450</td><td>6.77</td><td>-29 4328</td><td>N</td><td></td><td>07 24 05.70</td><td>-29 18 11.2</td><td>07 24 05.70</td><td>-29 18 11.2</td></tr>\n",
       "</table></div>"
      ],
      "text/plain": [
       "<Table length=1>\n",
       "   WDS       Disc  Comp  Obs1  Obs2 ... n_RAJ2000   RAJ2000     DEJ2000     _RA.icrs    _DE.icrs \n",
       "                          yr    yr  ...                                                          \n",
       "  str10      str7  str5 int16 int16 ...    str1      str11       str11       str11       str11   \n",
       "---------- ------- ---- ----- ----- ... --------- ----------- ----------- ----------- -----------\n",
       "07241-2918 SMY   2       1833  2020 ...           07 24 05.70 -29 18 11.2 07 24 05.70 -29 18 11.2"
      ]
     },
     "execution_count": 23,
     "metadata": {},
     "output_type": "execute_result"
    }
   ],
   "source": [
    "result[0]"
   ]
  },
  {
   "cell_type": "code",
   "execution_count": null,
   "id": "d6a3d0ba",
   "metadata": {},
   "outputs": [],
   "source": []
  },
  {
   "cell_type": "markdown",
   "id": "3666716b",
   "metadata": {},
   "source": [
    "***"
   ]
  },
  {
   "cell_type": "markdown",
   "id": "a5d3c0bc",
   "metadata": {},
   "source": [
    "# Obsolete Code"
   ]
  },
  {
   "cell_type": "raw",
   "id": "7bc1604f",
   "metadata": {},
   "source": [
    "all_v3_stars = Simbad.query_criteria('Vmag < 3 & otypes = *')\n",
    "\n",
    "all_v3_stars.show_in_notebook()"
   ]
  },
  {
   "cell_type": "raw",
   "id": "ff70e86e",
   "metadata": {},
   "source": [
    "hd_ids = []\n",
    "\n",
    "for entry in all_v3_stars:\n",
    "    \n",
    "    result_table = Simbad.query_objectids(entry['MAIN_ID'])\n",
    "\n",
    "    pattern = re.compile(r\"HD\\s*?[0-9]+\", re.IGNORECASE)\n",
    "    \n",
    "    for result in result_table:\n",
    "        \n",
    "        if bool(pattern.match(result['ID'])):\n",
    "            hd_ids.append(str(re.sub(r\"\\s+\", \" \", result['ID'])))"
   ]
  },
  {
   "cell_type": "raw",
   "id": "8c050e9d",
   "metadata": {},
   "source": [
    "with open(\"all_v3_stars.yaml\", 'w') as f:\n",
    "    yaml.dump(hd_ids, f)"
   ]
  },
  {
   "cell_type": "code",
   "execution_count": null,
   "id": "abf767da",
   "metadata": {},
   "outputs": [],
   "source": []
  }
 ],
 "metadata": {
  "kernelspec": {
   "display_name": "psfvet",
   "language": "python",
   "name": "psfvet"
  },
  "language_info": {
   "codemirror_mode": {
    "name": "ipython",
    "version": 3
   },
   "file_extension": ".py",
   "mimetype": "text/x-python",
   "name": "python",
   "nbconvert_exporter": "python",
   "pygments_lexer": "ipython3",
   "version": "3.12.2"
  }
 },
 "nbformat": 4,
 "nbformat_minor": 5
}
